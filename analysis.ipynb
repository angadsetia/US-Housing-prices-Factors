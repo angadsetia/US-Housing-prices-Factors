{
 "cells": [
  {
   "cell_type": "code",
   "execution_count": 2,
   "id": "83f1e86b",
   "metadata": {},
   "outputs": [],
   "source": [
    "import numpy as np\n",
    "import pandas as pd\n",
    "from functools import reduce\n"
   ]
  },
  {
   "cell_type": "code",
   "execution_count": 3,
   "id": "be351bbb",
   "metadata": {},
   "outputs": [],
   "source": [
    "df_index=pd.read_excel('data/CSUSHPINSA wb.xlsx')\n",
    "df_market=pd.read_excel('data/NASDAQ100 wb.xlsx')\n",
    "df_pop=pd.read_excel('data/POPTHM wb.xlsx')\n",
    "df_construction=pd.read_excel('data/WPUSI012011 wb.xlsx')\n",
    "df_unemp=pd.read_excel('data/UNRATE wb.xlsx')\n",
    "df_interest=pd.read_excel('data/BOGZ1FL075035503Q wb.xlsx')\n",
    "df_mortgage=pd.read_excel('data/MORTGAGE30US wb.xlsx')\n",
    "df_percapinc=pd.read_excel('data/percapinc.xls')\n",
    "df_hunits=pd.read_excel('data/houseunits.xls')"
   ]
  },
  {
   "cell_type": "code",
   "execution_count": 4,
   "id": "a1e51a96",
   "metadata": {},
   "outputs": [],
   "source": [
    "data=[df_market,df_pop,df_construction,df_unemp,df_interest,df_mortgage,df_percapinc,df_hunits]"
   ]
  },
  {
   "cell_type": "code",
   "execution_count": 5,
   "id": "242cbddc",
   "metadata": {},
   "outputs": [
    {
     "name": "stdout",
     "output_type": "stream",
     "text": [
      "(90, 2)\n",
      "(90, 2)\n",
      "(90, 2)\n",
      "(90, 2)\n",
      "(90, 2)\n",
      "(90, 2)\n",
      "(90, 2)\n",
      "(90, 2)\n"
     ]
    }
   ],
   "source": [
    "for dataset in data:\n",
    "    print(dataset.shape)"
   ]
  },
  {
   "cell_type": "code",
   "execution_count": 6,
   "id": "9dbe7636",
   "metadata": {},
   "outputs": [
    {
     "name": "stdout",
     "output_type": "stream",
     "text": [
      "Index(['Quarter', 'NASDAQ100'], dtype='object')\n",
      "Index(['Quarter', 'POPTHM'], dtype='object')\n",
      "Index(['Quarter', 'WPUSI012011'], dtype='object')\n",
      "Index(['Quarter', 'UNRATE'], dtype='object')\n",
      "Index(['Quarter', 'Interest_rate'], dtype='object')\n",
      "Index(['Quarter', 'MORTGAGE30US'], dtype='object')\n",
      "Index(['Quarter', 'percapinc'], dtype='object')\n",
      "Index(['Quarter', 'housunits'], dtype='object')\n"
     ]
    }
   ],
   "source": [
    "for dataset in data:\n",
    "    print(dataset.columns)"
   ]
  },
  {
   "cell_type": "code",
   "execution_count": null,
   "id": "9a7902c4",
   "metadata": {},
   "outputs": [],
   "source": []
  },
  {
   "cell_type": "code",
   "execution_count": 7,
   "id": "c86b4cec",
   "metadata": {},
   "outputs": [],
   "source": [
    "dfs = [df_index,df_market, df_interest, df_construction,df_mortgage,df_pop,df_unemp,df_percapinc,df_hunits]\n",
    "\n",
    "#merge all DataFrames into one\n",
    "df = reduce(lambda  left,right: pd.merge(left,right,on=['Quarter'],\n",
    "                                            how='outer'), dfs)"
   ]
  },
  {
   "cell_type": "code",
   "execution_count": 8,
   "id": "1a750116",
   "metadata": {
    "scrolled": true
   },
   "outputs": [
    {
     "data": {
      "text/html": [
       "<div>\n",
       "<style scoped>\n",
       "    .dataframe tbody tr th:only-of-type {\n",
       "        vertical-align: middle;\n",
       "    }\n",
       "\n",
       "    .dataframe tbody tr th {\n",
       "        vertical-align: top;\n",
       "    }\n",
       "\n",
       "    .dataframe thead th {\n",
       "        text-align: right;\n",
       "    }\n",
       "</style>\n",
       "<table border=\"1\" class=\"dataframe\">\n",
       "  <thead>\n",
       "    <tr style=\"text-align: right;\">\n",
       "      <th></th>\n",
       "      <th>Quarter</th>\n",
       "      <th>CSUSHPINSA</th>\n",
       "      <th>NASDAQ100</th>\n",
       "      <th>Interest_rate</th>\n",
       "      <th>WPUSI012011</th>\n",
       "      <th>MORTGAGE30US</th>\n",
       "      <th>POPTHM</th>\n",
       "      <th>UNRATE</th>\n",
       "      <th>percapinc</th>\n",
       "      <th>housunits</th>\n",
       "    </tr>\n",
       "  </thead>\n",
       "  <tbody>\n",
       "    <tr>\n",
       "      <th>0</th>\n",
       "      <td>2000 Q1</td>\n",
       "      <td>100.679000</td>\n",
       "      <td>4046.825397</td>\n",
       "      <td>127696</td>\n",
       "      <td>144.733333</td>\n",
       "      <td>8.256923</td>\n",
       "      <td>281304.333333</td>\n",
       "      <td>4.033333</td>\n",
       "      <td>30015</td>\n",
       "      <td>115999</td>\n",
       "    </tr>\n",
       "    <tr>\n",
       "      <th>1</th>\n",
       "      <td>2000 Q2</td>\n",
       "      <td>103.698667</td>\n",
       "      <td>3629.497460</td>\n",
       "      <td>126924</td>\n",
       "      <td>145.166667</td>\n",
       "      <td>8.316154</td>\n",
       "      <td>282002.000000</td>\n",
       "      <td>3.933333</td>\n",
       "      <td>30447</td>\n",
       "      <td>116047</td>\n",
       "    </tr>\n",
       "    <tr>\n",
       "      <th>2</th>\n",
       "      <td>2000 Q3</td>\n",
       "      <td>106.459000</td>\n",
       "      <td>3779.890000</td>\n",
       "      <td>139947</td>\n",
       "      <td>143.833333</td>\n",
       "      <td>8.020000</td>\n",
       "      <td>282768.666667</td>\n",
       "      <td>4.000000</td>\n",
       "      <td>30933</td>\n",
       "      <td>116482</td>\n",
       "    </tr>\n",
       "    <tr>\n",
       "      <th>3</th>\n",
       "      <td>2000 Q4</td>\n",
       "      <td>108.270000</td>\n",
       "      <td>2941.222857</td>\n",
       "      <td>144433</td>\n",
       "      <td>142.833333</td>\n",
       "      <td>7.620769</td>\n",
       "      <td>283518.666667</td>\n",
       "      <td>3.900000</td>\n",
       "      <td>31206</td>\n",
       "      <td>116914</td>\n",
       "    </tr>\n",
       "    <tr>\n",
       "      <th>4</th>\n",
       "      <td>2001 Q1</td>\n",
       "      <td>109.749333</td>\n",
       "      <td>2168.620952</td>\n",
       "      <td>143811</td>\n",
       "      <td>142.266667</td>\n",
       "      <td>7.006923</td>\n",
       "      <td>284168.666667</td>\n",
       "      <td>4.233333</td>\n",
       "      <td>31704</td>\n",
       "      <td>117347</td>\n",
       "    </tr>\n",
       "  </tbody>\n",
       "</table>\n",
       "</div>"
      ],
      "text/plain": [
       "   Quarter  CSUSHPINSA    NASDAQ100  Interest_rate  WPUSI012011  MORTGAGE30US  \\\n",
       "0  2000 Q1  100.679000  4046.825397         127696   144.733333      8.256923   \n",
       "1  2000 Q2  103.698667  3629.497460         126924   145.166667      8.316154   \n",
       "2  2000 Q3  106.459000  3779.890000         139947   143.833333      8.020000   \n",
       "3  2000 Q4  108.270000  2941.222857         144433   142.833333      7.620769   \n",
       "4  2001 Q1  109.749333  2168.620952         143811   142.266667      7.006923   \n",
       "\n",
       "          POPTHM    UNRATE  percapinc  housunits  \n",
       "0  281304.333333  4.033333      30015     115999  \n",
       "1  282002.000000  3.933333      30447     116047  \n",
       "2  282768.666667  4.000000      30933     116482  \n",
       "3  283518.666667  3.900000      31206     116914  \n",
       "4  284168.666667  4.233333      31704     117347  "
      ]
     },
     "execution_count": 8,
     "metadata": {},
     "output_type": "execute_result"
    }
   ],
   "source": [
    "df.head()"
   ]
  },
  {
   "cell_type": "code",
   "execution_count": 37,
   "id": "d6231cc1",
   "metadata": {},
   "outputs": [],
   "source": [
    "df.rename(columns={'CSUSHPINSA':'Index','WPUSI012011':'cons_mat'},inplace=True)"
   ]
  },
  {
   "cell_type": "code",
   "execution_count": 38,
   "id": "c39340b7",
   "metadata": {},
   "outputs": [
    {
     "data": {
      "text/plain": [
       "(90, 10)"
      ]
     },
     "execution_count": 38,
     "metadata": {},
     "output_type": "execute_result"
    }
   ],
   "source": [
    "df.shape"
   ]
  },
  {
   "cell_type": "code",
   "execution_count": 39,
   "id": "103bc350",
   "metadata": {},
   "outputs": [
    {
     "name": "stdout",
     "output_type": "stream",
     "text": [
      "<class 'pandas.core.frame.DataFrame'>\n",
      "Int64Index: 90 entries, 0 to 89\n",
      "Data columns (total 10 columns):\n",
      " #   Column         Non-Null Count  Dtype  \n",
      "---  ------         --------------  -----  \n",
      " 0   Quarter        90 non-null     object \n",
      " 1   Index          90 non-null     float64\n",
      " 2   NASDAQ100      90 non-null     float64\n",
      " 3   Interest_rate  90 non-null     int64  \n",
      " 4   cons_mat       90 non-null     float64\n",
      " 5   MORTGAGE30US   90 non-null     float64\n",
      " 6   POPTHM         90 non-null     float64\n",
      " 7   UNRATE         90 non-null     float64\n",
      " 8   percapinc      90 non-null     int64  \n",
      " 9   housunits      90 non-null     int64  \n",
      "dtypes: float64(6), int64(3), object(1)\n",
      "memory usage: 7.7+ KB\n"
     ]
    }
   ],
   "source": [
    "df.info()"
   ]
  },
  {
   "cell_type": "code",
   "execution_count": 40,
   "id": "84867f9e",
   "metadata": {},
   "outputs": [
    {
     "data": {
      "text/html": [
       "<div>\n",
       "<style scoped>\n",
       "    .dataframe tbody tr th:only-of-type {\n",
       "        vertical-align: middle;\n",
       "    }\n",
       "\n",
       "    .dataframe tbody tr th {\n",
       "        vertical-align: top;\n",
       "    }\n",
       "\n",
       "    .dataframe thead th {\n",
       "        text-align: right;\n",
       "    }\n",
       "</style>\n",
       "<table border=\"1\" class=\"dataframe\">\n",
       "  <thead>\n",
       "    <tr style=\"text-align: right;\">\n",
       "      <th></th>\n",
       "      <th>Quarter</th>\n",
       "      <th>Index</th>\n",
       "      <th>NASDAQ100</th>\n",
       "      <th>Interest_rate</th>\n",
       "      <th>cons_mat</th>\n",
       "      <th>MORTGAGE30US</th>\n",
       "      <th>POPTHM</th>\n",
       "      <th>UNRATE</th>\n",
       "      <th>percapinc</th>\n",
       "      <th>housunits</th>\n",
       "    </tr>\n",
       "  </thead>\n",
       "  <tbody>\n",
       "    <tr>\n",
       "      <th>count</th>\n",
       "      <td>90</td>\n",
       "      <td>90.000000</td>\n",
       "      <td>90.000000</td>\n",
       "      <td>90.000000</td>\n",
       "      <td>90.000000</td>\n",
       "      <td>90.000000</td>\n",
       "      <td>90.000000</td>\n",
       "      <td>90.000000</td>\n",
       "      <td>90.000000</td>\n",
       "      <td>90.000000</td>\n",
       "    </tr>\n",
       "    <tr>\n",
       "      <th>unique</th>\n",
       "      <td>90</td>\n",
       "      <td>NaN</td>\n",
       "      <td>NaN</td>\n",
       "      <td>NaN</td>\n",
       "      <td>NaN</td>\n",
       "      <td>NaN</td>\n",
       "      <td>NaN</td>\n",
       "      <td>NaN</td>\n",
       "      <td>NaN</td>\n",
       "      <td>NaN</td>\n",
       "    </tr>\n",
       "    <tr>\n",
       "      <th>top</th>\n",
       "      <td>2000 Q1</td>\n",
       "      <td>NaN</td>\n",
       "      <td>NaN</td>\n",
       "      <td>NaN</td>\n",
       "      <td>NaN</td>\n",
       "      <td>NaN</td>\n",
       "      <td>NaN</td>\n",
       "      <td>NaN</td>\n",
       "      <td>NaN</td>\n",
       "      <td>NaN</td>\n",
       "    </tr>\n",
       "    <tr>\n",
       "      <th>freq</th>\n",
       "      <td>1</td>\n",
       "      <td>NaN</td>\n",
       "      <td>NaN</td>\n",
       "      <td>NaN</td>\n",
       "      <td>NaN</td>\n",
       "      <td>NaN</td>\n",
       "      <td>NaN</td>\n",
       "      <td>NaN</td>\n",
       "      <td>NaN</td>\n",
       "      <td>NaN</td>\n",
       "    </tr>\n",
       "    <tr>\n",
       "      <th>mean</th>\n",
       "      <td>NaN</td>\n",
       "      <td>169.041648</td>\n",
       "      <td>4100.429369</td>\n",
       "      <td>216455.144444</td>\n",
       "      <td>200.884230</td>\n",
       "      <td>4.985707</td>\n",
       "      <td>310426.674074</td>\n",
       "      <td>5.907778</td>\n",
       "      <td>43948.422222</td>\n",
       "      <td>131018.711111</td>\n",
       "    </tr>\n",
       "    <tr>\n",
       "      <th>std</th>\n",
       "      <td>NaN</td>\n",
       "      <td>41.061039</td>\n",
       "      <td>3610.055121</td>\n",
       "      <td>58960.683183</td>\n",
       "      <td>43.961087</td>\n",
       "      <td>1.359509</td>\n",
       "      <td>16100.877054</td>\n",
       "      <td>1.945230</td>\n",
       "      <td>9592.375626</td>\n",
       "      <td>7457.081105</td>\n",
       "    </tr>\n",
       "    <tr>\n",
       "      <th>min</th>\n",
       "      <td>NaN</td>\n",
       "      <td>100.679000</td>\n",
       "      <td>945.332813</td>\n",
       "      <td>126924.000000</td>\n",
       "      <td>142.033333</td>\n",
       "      <td>2.760714</td>\n",
       "      <td>281304.333333</td>\n",
       "      <td>3.600000</td>\n",
       "      <td>30015.000000</td>\n",
       "      <td>115999.000000</td>\n",
       "    </tr>\n",
       "    <tr>\n",
       "      <th>25%</th>\n",
       "      <td>NaN</td>\n",
       "      <td>141.962583</td>\n",
       "      <td>1633.297222</td>\n",
       "      <td>169301.500000</td>\n",
       "      <td>170.400000</td>\n",
       "      <td>3.887349</td>\n",
       "      <td>296526.666667</td>\n",
       "      <td>4.500000</td>\n",
       "      <td>36193.750000</td>\n",
       "      <td>125740.250000</td>\n",
       "    </tr>\n",
       "    <tr>\n",
       "      <th>50%</th>\n",
       "      <td>NaN</td>\n",
       "      <td>165.653000</td>\n",
       "      <td>2588.831357</td>\n",
       "      <td>212705.500000</td>\n",
       "      <td>201.950000</td>\n",
       "      <td>4.717692</td>\n",
       "      <td>311658.333333</td>\n",
       "      <td>5.433333</td>\n",
       "      <td>42444.500000</td>\n",
       "      <td>132178.000000</td>\n",
       "    </tr>\n",
       "    <tr>\n",
       "      <th>75%</th>\n",
       "      <td>NaN</td>\n",
       "      <td>184.360417</td>\n",
       "      <td>4814.456295</td>\n",
       "      <td>254024.000000</td>\n",
       "      <td>215.683333</td>\n",
       "      <td>6.084038</td>\n",
       "      <td>325399.333333</td>\n",
       "      <td>6.841667</td>\n",
       "      <td>50013.500000</td>\n",
       "      <td>136487.750000</td>\n",
       "    </tr>\n",
       "    <tr>\n",
       "      <th>max</th>\n",
       "      <td>NaN</td>\n",
       "      <td>305.348000</td>\n",
       "      <td>15843.419219</td>\n",
       "      <td>360001.000000</td>\n",
       "      <td>348.737333</td>\n",
       "      <td>8.316154</td>\n",
       "      <td>332939.666667</td>\n",
       "      <td>12.966667</td>\n",
       "      <td>65876.000000</td>\n",
       "      <td>143276.000000</td>\n",
       "    </tr>\n",
       "  </tbody>\n",
       "</table>\n",
       "</div>"
      ],
      "text/plain": [
       "        Quarter       Index     NASDAQ100  Interest_rate    cons_mat  \\\n",
       "count        90   90.000000     90.000000      90.000000   90.000000   \n",
       "unique       90         NaN           NaN            NaN         NaN   \n",
       "top     2000 Q1         NaN           NaN            NaN         NaN   \n",
       "freq          1         NaN           NaN            NaN         NaN   \n",
       "mean        NaN  169.041648   4100.429369  216455.144444  200.884230   \n",
       "std         NaN   41.061039   3610.055121   58960.683183   43.961087   \n",
       "min         NaN  100.679000    945.332813  126924.000000  142.033333   \n",
       "25%         NaN  141.962583   1633.297222  169301.500000  170.400000   \n",
       "50%         NaN  165.653000   2588.831357  212705.500000  201.950000   \n",
       "75%         NaN  184.360417   4814.456295  254024.000000  215.683333   \n",
       "max         NaN  305.348000  15843.419219  360001.000000  348.737333   \n",
       "\n",
       "        MORTGAGE30US         POPTHM     UNRATE     percapinc      housunits  \n",
       "count      90.000000      90.000000  90.000000     90.000000      90.000000  \n",
       "unique           NaN            NaN        NaN           NaN            NaN  \n",
       "top              NaN            NaN        NaN           NaN            NaN  \n",
       "freq             NaN            NaN        NaN           NaN            NaN  \n",
       "mean        4.985707  310426.674074   5.907778  43948.422222  131018.711111  \n",
       "std         1.359509   16100.877054   1.945230   9592.375626    7457.081105  \n",
       "min         2.760714  281304.333333   3.600000  30015.000000  115999.000000  \n",
       "25%         3.887349  296526.666667   4.500000  36193.750000  125740.250000  \n",
       "50%         4.717692  311658.333333   5.433333  42444.500000  132178.000000  \n",
       "75%         6.084038  325399.333333   6.841667  50013.500000  136487.750000  \n",
       "max         8.316154  332939.666667  12.966667  65876.000000  143276.000000  "
      ]
     },
     "execution_count": 40,
     "metadata": {},
     "output_type": "execute_result"
    }
   ],
   "source": [
    "df.describe(include=\"all\")"
   ]
  },
  {
   "cell_type": "code",
   "execution_count": 42,
   "id": "b1291af0",
   "metadata": {},
   "outputs": [
    {
     "data": {
      "text/plain": [
       "Index            1.000000\n",
       "Interest_rate    0.956532\n",
       "cons_mat         0.896744\n",
       "percapinc        0.877490\n",
       "NASDAQ100        0.849974\n",
       "housunits        0.814834\n",
       "POPTHM           0.771812\n",
       "UNRATE          -0.262429\n",
       "MORTGAGE30US    -0.583233\n",
       "Name: Index, dtype: float64"
      ]
     },
     "execution_count": 42,
     "metadata": {},
     "output_type": "execute_result"
    }
   ],
   "source": [
    "#Finding correlation\n",
    "df.corr()['Index'].sort_values(ascending=False)"
   ]
  },
  {
   "cell_type": "code",
   "execution_count": 43,
   "id": "70846b81",
   "metadata": {
    "scrolled": true
   },
   "outputs": [
    {
     "data": {
      "text/plain": [
       "Quarter          0\n",
       "Index            0\n",
       "NASDAQ100        0\n",
       "Interest_rate    0\n",
       "cons_mat         0\n",
       "MORTGAGE30US     0\n",
       "POPTHM           0\n",
       "UNRATE           0\n",
       "percapinc        0\n",
       "housunits        0\n",
       "dtype: int64"
      ]
     },
     "execution_count": 43,
     "metadata": {},
     "output_type": "execute_result"
    }
   ],
   "source": [
    "#No missing values\n",
    "df.isnull().sum()"
   ]
  },
  {
   "cell_type": "code",
   "execution_count": 44,
   "id": "1e6c4f4a",
   "metadata": {},
   "outputs": [],
   "source": [
    "df.to_excel('data/data.xlsx',index=False)"
   ]
  },
  {
   "cell_type": "code",
   "execution_count": 46,
   "id": "c034c98e",
   "metadata": {},
   "outputs": [],
   "source": [
    "x=df.drop([\"Index\",\"Quarter\"],axis=True)\n",
    "y=df[\"Index\"]"
   ]
  },
  {
   "cell_type": "code",
   "execution_count": 56,
   "id": "c748246c",
   "metadata": {
    "scrolled": true
   },
   "outputs": [],
   "source": [
    "\n",
    "from sklearn.ensemble import RandomForestRegressor\n",
    "import matplotlib.pyplot as plt\n",
    "\n"
   ]
  },
  {
   "cell_type": "code",
   "execution_count": 48,
   "id": "9086a334",
   "metadata": {},
   "outputs": [
    {
     "data": {
      "text/plain": [
       "RandomForestRegressor()"
      ]
     },
     "execution_count": 48,
     "metadata": {},
     "output_type": "execute_result"
    }
   ],
   "source": [
    "#training random forest model\n",
    "reg = RandomForestRegressor(n_estimators=100)\n",
    "reg.fit(x,y)"
   ]
  },
  {
   "cell_type": "code",
   "execution_count": 49,
   "id": "8608a0c0",
   "metadata": {},
   "outputs": [
    {
     "data": {
      "text/html": [
       "<div>\n",
       "<style scoped>\n",
       "    .dataframe tbody tr th:only-of-type {\n",
       "        vertical-align: middle;\n",
       "    }\n",
       "\n",
       "    .dataframe tbody tr th {\n",
       "        vertical-align: top;\n",
       "    }\n",
       "\n",
       "    .dataframe thead th {\n",
       "        text-align: right;\n",
       "    }\n",
       "</style>\n",
       "<table border=\"1\" class=\"dataframe\">\n",
       "  <thead>\n",
       "    <tr style=\"text-align: right;\">\n",
       "      <th></th>\n",
       "      <th>feature importance</th>\n",
       "    </tr>\n",
       "  </thead>\n",
       "  <tbody>\n",
       "    <tr>\n",
       "      <th>Interest_rate</th>\n",
       "      <td>0.315570</td>\n",
       "    </tr>\n",
       "    <tr>\n",
       "      <th>cons_mat</th>\n",
       "      <td>0.153915</td>\n",
       "    </tr>\n",
       "    <tr>\n",
       "      <th>percapinc</th>\n",
       "      <td>0.144698</td>\n",
       "    </tr>\n",
       "    <tr>\n",
       "      <th>housunits</th>\n",
       "      <td>0.131795</td>\n",
       "    </tr>\n",
       "    <tr>\n",
       "      <th>NASDAQ100</th>\n",
       "      <td>0.101607</td>\n",
       "    </tr>\n",
       "    <tr>\n",
       "      <th>POPTHM</th>\n",
       "      <td>0.098465</td>\n",
       "    </tr>\n",
       "    <tr>\n",
       "      <th>UNRATE</th>\n",
       "      <td>0.040440</td>\n",
       "    </tr>\n",
       "    <tr>\n",
       "      <th>MORTGAGE30US</th>\n",
       "      <td>0.013510</td>\n",
       "    </tr>\n",
       "  </tbody>\n",
       "</table>\n",
       "</div>"
      ],
      "text/plain": [
       "               feature importance\n",
       "Interest_rate            0.315570\n",
       "cons_mat                 0.153915\n",
       "percapinc                0.144698\n",
       "housunits                0.131795\n",
       "NASDAQ100                0.101607\n",
       "POPTHM                   0.098465\n",
       "UNRATE                   0.040440\n",
       "MORTGAGE30US             0.013510"
      ]
     },
     "execution_count": 49,
     "metadata": {},
     "output_type": "execute_result"
    }
   ],
   "source": [
    "#feature importance\n",
    "df_feature_importance = pd.DataFrame(reg.feature_importances_, index=x.columns, columns=['feature importance']).sort_values('feature importance', ascending=False)\n",
    "df_feature_importance"
   ]
  },
  {
   "cell_type": "code",
   "execution_count": 50,
   "id": "94fa09c5",
   "metadata": {},
   "outputs": [
    {
     "data": {
      "image/png": "[encoded data removed]",
      "text/plain": [
       "<Figure size 432x288 with 1 Axes>"
      ]
     },
     "metadata": {},
     "output_type": "display_data"
    }
   ],
   "source": [
    "df_feature_importance.plot(kind='bar');"
   ]
  },
  {
   "cell_type": "code",
   "execution_count": 51,
   "id": "5ec5f737",
   "metadata": {},
   "outputs": [],
   "source": [
    "#training xgboost regressor\n",
    "import xgboost as xgb\n",
    "from sklearn.model_selection import GridSearchCV"
   ]
  },
  {
   "cell_type": "code",
   "execution_count": 52,
   "id": "cd6bd8f4",
   "metadata": {},
   "outputs": [],
   "source": [
    "xgbregressor=xgb.XGBRegressor(eval_metric='rmsle')"
   ]
  },
  {
   "cell_type": "code",
   "execution_count": 53,
   "id": "04522a62",
   "metadata": {},
   "outputs": [
    {
     "name": "stdout",
     "output_type": "stream",
     "text": [
      "The best hyperparameters are  {'learning_rate': 0.015, 'max_depth': 4, 'n_estimators': 600}\n"
     ]
    }
   ],
   "source": [
    "param_grid = {\"max_depth\":    [4, 5],\n",
    "              \"n_estimators\": [500, 600, 700],\n",
    "              \"learning_rate\": [0.01, 0.015]}\n",
    "\n",
    "# try out every combination of the above values\n",
    "search = GridSearchCV(xgbregressor, param_grid, cv=5).fit(x,y)\n",
    "\n",
    "print(\"The best hyperparameters are \",search.best_params_)"
   ]
  },
  {
   "cell_type": "code",
   "execution_count": 54,
   "id": "5b4373b8",
   "metadata": {},
   "outputs": [
    {
     "data": {
      "text/plain": [
       "XGBRegressor(base_score=0.5, booster='gbtree', callbacks=None,\n",
       "             colsample_bylevel=1, colsample_bynode=1, colsample_bytree=1,\n",
       "             early_stopping_rounds=None, enable_categorical=False,\n",
       "             eval_metric='rmsle', gamma=0, gpu_id=-1, grow_policy='depthwise',\n",
       "             importance_type=None, interaction_constraints='',\n",
       "             learning_rate=0.015, max_bin=256, max_cat_to_onehot=4,\n",
       "             max_delta_step=0, max_depth=4, max_leaves=0, min_child_weight=1,\n",
       "             missing=nan, monotone_constraints='()', n_estimators=600, n_jobs=0,\n",
       "             num_parallel_tree=1, predictor='auto', random_state=0, reg_alpha=0,\n",
       "             reg_lambda=1, ...)"
      ]
     },
     "execution_count": 54,
     "metadata": {},
     "output_type": "execute_result"
    }
   ],
   "source": [
    "xgbregressor=xgb.XGBRegressor(learning_rate = search.best_params_[\"learning_rate\"],\n",
    "                           n_estimators  = search.best_params_[\"n_estimators\"],\n",
    "                           max_depth     = search.best_params_[\"max_depth\"],\n",
    "                           eval_metric='rmsle')\n",
    "\n",
    "xgbregressor.fit(x,y)"
   ]
  },
  {
   "cell_type": "code",
   "execution_count": 55,
   "id": "51c337fa",
   "metadata": {
    "scrolled": true
   },
   "outputs": [
    {
     "data": {
      "image/png": "[encoded data removed]",
      "text/plain": [
       "<Figure size 432x288 with 1 Axes>"
      ]
     },
     "metadata": {},
     "output_type": "display_data"
    }
   ],
   "source": [
    "from xgboost import plot_importance\n",
    "import matplotlib.pyplot as plt\n",
    "\n",
    "\n",
    "plot_importance(xgbregressor)\n",
    "plt.show()"
   ]
  },
  {
   "cell_type": "code",
   "execution_count": null,
   "id": "a17f3112",
   "metadata": {},
   "outputs": [],
   "source": []
  }
 ],
 "metadata": {
  "kernelspec": {
   "display_name": "Python 3 (ipykernel)",
   "language": "python",
   "name": "python3"
  },
  "language_info": {
   "codemirror_mode": {
    "name": "ipython",
    "version": 3
   },
   "file_extension": ".py",
   "mimetype": "text/x-python",
   "name": "python",
   "nbconvert_exporter": "python",
   "pygments_lexer": "ipython3",
   "version": "3.9.12"
  }
 },
 "nbformat": 4,
 "nbformat_minor": 5
}
